{
 "cells": [
  {
   "cell_type": "markdown",
   "metadata": {},
   "source": [
    "### Importing Libraries"
   ]
  },
  {
   "cell_type": "code",
   "execution_count": 1,
   "metadata": {},
   "outputs": [],
   "source": [
    "import numpy as np\n",
    "import pandas as pd\n",
    "import matplotlib.pyplot as plt"
   ]
  },
  {
   "cell_type": "markdown",
   "metadata": {},
   "source": [
    "### Importing the Dataset"
   ]
  },
  {
   "cell_type": "code",
   "execution_count": 2,
   "metadata": {},
   "outputs": [
    {
     "name": "stdout",
     "output_type": "stream",
     "text": [
      "      age     sex     bmi  children smoker     region      charges\n",
      "0      19  female  27.900         0    yes  southwest  16884.92400\n",
      "1      18    male  33.770         1     no  southeast   1725.55230\n",
      "2      28    male  33.000         3     no  southeast   4449.46200\n",
      "3      33    male  22.705         0     no  northwest  21984.47061\n",
      "4      32    male  28.880         0     no  northwest   3866.85520\n",
      "...   ...     ...     ...       ...    ...        ...          ...\n",
      "1333   50    male  30.970         3     no  northwest  10600.54830\n",
      "1334   18  female  31.920         0     no  northeast   2205.98080\n",
      "1335   18  female  36.850         0     no  southeast   1629.83350\n",
      "1336   21  female  25.800         0     no  southwest   2007.94500\n",
      "1337   61  female  29.070         0    yes  northwest  29141.36030\n",
      "\n",
      "[1338 rows x 7 columns]\n"
     ]
    }
   ],
   "source": [
    "dataset = pd.read_csv('insurance.csv')\n",
    "print(dataset)\n",
    "x = dataset.iloc[:,:-1].values\n",
    "y = dataset.iloc[:,-1].values"
   ]
  },
  {
   "cell_type": "code",
   "execution_count": 3,
   "metadata": {},
   "outputs": [
    {
     "name": "stdout",
     "output_type": "stream",
     "text": [
      "[[19 'female' 27.9 0 'yes' 'southwest']\n",
      " [18 'male' 33.77 1 'no' 'southeast']\n",
      " [28 'male' 33.0 3 'no' 'southeast']\n",
      " ...\n",
      " [18 'female' 36.85 0 'no' 'southeast']\n",
      " [21 'female' 25.8 0 'no' 'southwest']\n",
      " [61 'female' 29.07 0 'yes' 'northwest']]\n"
     ]
    }
   ],
   "source": [
    "print(x)"
   ]
  },
  {
   "cell_type": "code",
   "execution_count": 4,
   "metadata": {},
   "outputs": [
    {
     "name": "stdout",
     "output_type": "stream",
     "text": [
      "[16884.924   1725.5523  4449.462  ...  1629.8335  2007.945  29141.3603]\n"
     ]
    }
   ],
   "source": [
    "print(y)"
   ]
  },
  {
   "cell_type": "markdown",
   "metadata": {},
   "source": [
    "### Creating dummy variables"
   ]
  },
  {
   "cell_type": "code",
   "execution_count": 5,
   "metadata": {},
   "outputs": [],
   "source": [
    "from sklearn.compose import ColumnTransformer\n",
    "from sklearn.preprocessing import OneHotEncoder\n",
    "ct = ColumnTransformer(transformers=[('encoder',OneHotEncoder(), [1,4,5])],remainder = 'passthrough')\n",
    "#creating the object for ColumnTransformer with OneHotEncoder for 2nd,4th and 5th column\n",
    "x = np.array(ct.fit_transform(x))\n",
    "# fitting and transform the initial data set and then converting it into a numpy array."
   ]
  },
  {
   "cell_type": "code",
   "execution_count": 6,
   "metadata": {},
   "outputs": [
    {
     "name": "stdout",
     "output_type": "stream",
     "text": [
      "[[1.0 0.0 0.0 ... 19 27.9 0]\n",
      " [0.0 1.0 1.0 ... 18 33.77 1]\n",
      " [0.0 1.0 1.0 ... 28 33.0 3]\n",
      " ...\n",
      " [1.0 0.0 1.0 ... 18 36.85 0]\n",
      " [1.0 0.0 1.0 ... 21 25.8 0]\n",
      " [1.0 0.0 0.0 ... 61 29.07 0]]\n"
     ]
    }
   ],
   "source": [
    "print(x)"
   ]
  },
  {
   "cell_type": "code",
   "execution_count": 7,
   "metadata": {},
   "outputs": [
    {
     "name": "stdout",
     "output_type": "stream",
     "text": [
      "[[0.0 0.0 1.0 ... 19 27.9 0]\n",
      " [1.0 1.0 0.0 ... 18 33.77 1]\n",
      " [1.0 1.0 0.0 ... 28 33.0 3]\n",
      " ...\n",
      " [0.0 1.0 0.0 ... 18 36.85 0]\n",
      " [0.0 1.0 0.0 ... 21 25.8 0]\n",
      " [0.0 0.0 1.0 ... 61 29.07 0]]\n",
      "x after adding the intercept\n",
      "[[1 0.0 0.0 ... 19 27.9 0]\n",
      " [1 1.0 1.0 ... 18 33.77 1]\n",
      " [1 1.0 1.0 ... 28 33.0 3]\n",
      " ...\n",
      " [1 0.0 1.0 ... 18 36.85 0]\n",
      " [1 0.0 1.0 ... 21 25.8 0]\n",
      " [1 0.0 0.0 ... 61 29.07 0]]\n"
     ]
    }
   ],
   "source": [
    "# avoiding dummy variable trap\n",
    "x = x[:,1:]\n",
    "print(x)\n",
    "x = np.append(arr = np.ones((1338,1)).astype(int), values = x, axis = 1)\n",
    "print('x after adding the intercept')\n",
    "print(x)"
   ]
  },
  {
   "cell_type": "markdown",
   "metadata": {},
   "source": [
    "### Splitting the dataset inot Train set and Test set"
   ]
  },
  {
   "cell_type": "code",
   "execution_count": 8,
   "metadata": {},
   "outputs": [],
   "source": [
    "from sklearn.model_selection import train_test_split\n",
    "x_train,x_test,y_train,y_test = train_test_split(x,y,test_size = 0.25 , random_state = 0)"
   ]
  },
  {
   "cell_type": "markdown",
   "metadata": {},
   "source": [
    "### Applying the PCA model"
   ]
  },
  {
   "cell_type": "code",
   "execution_count": 9,
   "metadata": {},
   "outputs": [
    {
     "name": "stdout",
     "output_type": "stream",
     "text": [
      "[0.82858134 0.15993773 0.00607105 0.00141108 0.0010495 ]\n"
     ]
    }
   ],
   "source": [
    "from sklearn.decomposition import PCA\n",
    "pca = PCA(n_components= 5) # since we do not know how many eigenvectors are need we keep the value of n_components = None \n",
    "# so that we can the eignvalues of all the evectors to figure out the best ones\n",
    "x_train = pca.fit_transform(x_train)\n",
    "x_test = pca.transform(x_test)\n",
    "explained_variance = pca.explained_variance_ratio_\n",
    "print(explained_variance)\n",
    "# after all the evalues are obtained select the number of evectors an replece \n",
    "# the value of n_components by that number"
   ]
  },
  {
   "cell_type": "markdown",
   "metadata": {},
   "source": [
    "### Using PCA creating MLP"
   ]
  },
  {
   "cell_type": "code",
   "execution_count": 10,
   "metadata": {},
   "outputs": [
    {
     "data": {
      "text/plain": [
       "LinearRegression(copy_X=True, fit_intercept=True, n_jobs=None, normalize=False)"
      ]
     },
     "execution_count": 10,
     "metadata": {},
     "output_type": "execute_result"
    }
   ],
   "source": [
    "from sklearn.linear_model import LinearRegression\n",
    "lR = LinearRegression()\n",
    "lR.fit(x_train, y_train)"
   ]
  },
  {
   "cell_type": "code",
   "execution_count": 11,
   "metadata": {},
   "outputs": [
    {
     "name": "stdout",
     "output_type": "stream",
     "text": [
      "[[ 1.36e+04  9.72e+03]\n",
      " [ 1.10e+04  8.55e+03]\n",
      " [ 3.43e+04  4.57e+04]\n",
      " [ 1.53e+04  1.30e+04]\n",
      " [ 4.20e+03  9.64e+03]\n",
      " [ 7.28e+03  4.50e+03]\n",
      " [ 3.96e+02  2.20e+03]\n",
      " [ 9.75e+03  1.14e+04]\n",
      " [ 5.06e+03  7.54e+03]\n",
      " [ 7.43e+03  5.43e+03]\n",
      " [ 4.18e+03  6.75e+03]\n",
      " [ 6.73e+03  1.05e+04]\n",
      " [ 7.34e+03  7.34e+03]\n",
      " [ 5.84e+03  4.19e+03]\n",
      " [ 2.53e+04  1.83e+04]\n",
      " [ 1.24e+04  1.07e+04]\n",
      " [ 1.19e+04  1.25e+04]\n",
      " [ 8.24e+03  3.49e+03]\n",
      " [ 8.33e+03  6.46e+03]\n",
      " [ 2.67e+04  3.35e+04]\n",
      " [ 3.15e+04  2.40e+04]\n",
      " [ 9.97e+03  1.26e+04]\n",
      " [ 1.00e+04  2.30e+04]\n",
      " [ 3.11e+04  2.31e+04]\n",
      " [ 9.16e+03  1.67e+03]\n",
      " [ 1.09e+04  4.67e+03]\n",
      " [ 8.78e+02  3.73e+03]\n",
      " [ 1.10e+04  7.68e+03]\n",
      " [ 5.66e+03  3.76e+03]\n",
      " [ 1.04e+04  8.41e+03]\n",
      " [ 5.22e+03  8.06e+03]\n",
      " [ 4.15e+04  4.90e+04]\n",
      " [ 1.73e+04  1.30e+04]\n",
      " [ 1.56e+04  2.06e+04]\n",
      " [ 2.15e+04  1.46e+04]\n",
      " [ 3.80e+03  4.14e+03]\n",
      " [ 1.72e+04  8.35e+03]\n",
      " [ 2.98e+04  5.12e+04]\n",
      " [ 2.66e+04  4.00e+04]\n",
      " [ 1.83e+03  1.88e+03]\n",
      " [ 3.49e+03  5.46e+03]\n",
      " [ 9.61e+03  2.87e+03]\n",
      " [ 3.06e+04  2.01e+04]\n",
      " [ 3.60e+04  4.75e+04]\n",
      " [ 2.58e+04  3.61e+04]\n",
      " [ 8.51e+02  2.60e+04]\n",
      " [ 1.23e+04  1.97e+04]\n",
      " [ 8.21e+03  6.94e+03]\n",
      " [ 2.91e+03  4.72e+03]\n",
      " [ 1.23e+04  2.22e+04]\n",
      " [ 3.60e+03  2.90e+03]\n",
      " [-2.71e+02  1.88e+04]\n",
      " [ 3.30e+04  2.36e+04]\n",
      " [ 3.35e+04  4.63e+04]\n",
      " [ 1.62e+04  2.42e+04]\n",
      " [ 8.95e+03  3.27e+03]\n",
      " [ 1.05e+04  2.32e+03]\n",
      " [ 9.80e+03  8.83e+03]\n",
      " [ 1.49e+04  1.45e+04]\n",
      " [ 1.23e+04  1.31e+04]\n",
      " [ 4.48e+03  1.25e+03]\n",
      " [ 3.61e+04  4.67e+04]\n",
      " [ 2.00e+04  1.39e+04]\n",
      " [ 1.41e+04  9.63e+03]\n",
      " [ 1.59e+04  1.07e+04]\n",
      " [ 1.15e+04  9.88e+03]\n",
      " [ 2.85e+04  3.25e+04]\n",
      " [ 2.91e+04  3.87e+04]\n",
      " [ 3.18e+03  3.18e+03]\n",
      " [ 1.01e+04  8.16e+03]\n",
      " [ 1.11e+04  1.30e+04]\n",
      " [ 1.72e+04  1.16e+04]\n",
      " [ 2.53e+04  1.62e+04]\n",
      " [ 1.63e+04  1.39e+04]\n",
      " [ 7.84e+03  1.30e+04]\n",
      " [ 1.13e+04  1.32e+04]\n",
      " [ 9.86e+03  7.15e+03]\n",
      " [ 1.50e+04  7.73e+03]\n",
      " [ 2.64e+04  2.03e+04]\n",
      " [ 3.82e+04  4.74e+04]\n",
      " [ 1.06e+04  1.17e+04]\n",
      " [ 3.42e+04  4.59e+04]\n",
      " [ 4.00e+03  2.06e+03]\n",
      " [ 1.19e+04  7.44e+03]\n",
      " [ 3.40e+04  4.10e+04]\n",
      " [ 3.21e+04  1.90e+04]\n",
      " [ 5.88e+03  3.41e+03]\n",
      " [ 4.77e+03  2.70e+03]\n",
      " [ 1.48e+04  1.23e+04]\n",
      " [ 2.96e+04  3.68e+04]\n",
      " [ 7.79e+03  6.33e+03]\n",
      " [ 1.39e+04  1.02e+04]\n",
      " [ 5.58e+03  1.79e+04]\n",
      " [ 1.06e+04  8.52e+03]\n",
      " [ 1.03e+04  4.52e+03]\n",
      " [ 5.59e+03  5.15e+03]\n",
      " [ 3.56e+04  4.23e+04]\n",
      " [ 3.30e+04  3.90e+04]\n",
      " [ 3.40e+03  5.33e+03]\n",
      " [ 1.65e+04  1.06e+04]\n",
      " [ 9.14e+03  1.82e+03]\n",
      " [ 8.40e+03  5.38e+03]\n",
      " [ 7.48e+03  4.35e+03]\n",
      " [ 3.37e+04  3.77e+04]\n",
      " [ 3.05e+04  3.28e+04]\n",
      " [-1.10e+03  3.35e+03]\n",
      " [ 1.24e+04  1.06e+04]\n",
      " [ 2.17e+03  3.56e+03]\n",
      " [ 1.64e+04  1.19e+04]\n",
      " [ 3.67e+04  5.26e+04]\n",
      " [ 7.13e+03  1.25e+04]\n",
      " [ 1.45e+04  4.27e+03]\n",
      " [ 6.36e+03  9.25e+03]\n",
      " [ 2.65e+04  3.37e+04]\n",
      " [ 4.13e+04  4.87e+04]\n",
      " [ 1.13e+04  7.73e+03]\n",
      " [ 3.68e+03  1.96e+03]\n",
      " [ 1.19e+04  8.44e+03]\n",
      " [ 1.70e+04  1.23e+04]\n",
      " [ 1.00e+04  9.30e+03]\n",
      " [ 3.72e+04  4.21e+04]\n",
      " [ 4.51e+03  9.99e+03]\n",
      " [ 1.44e+04  1.43e+04]\n",
      " [ 1.13e+04  5.43e+03]\n",
      " [ 7.05e+03  7.63e+03]\n",
      " [ 4.96e+01  4.91e+03]\n",
      " [ 2.90e+04  2.34e+04]\n",
      " [ 2.95e+04  2.11e+04]\n",
      " [ 3.83e+04  4.82e+04]\n",
      " [ 4.82e+03  1.92e+03]\n",
      " [ 1.08e+04  8.22e+03]\n",
      " [ 8.61e+03  1.73e+03]\n",
      " [ 9.02e+03  5.98e+03]\n",
      " [ 1.18e+04  9.36e+03]\n",
      " [ 3.15e+04  2.21e+04]\n",
      " [ 2.96e+04  3.55e+04]\n",
      " [ 3.30e+04  1.95e+04]\n",
      " [ 1.09e+04  1.01e+04]\n",
      " [ 3.19e+04  2.32e+04]\n",
      " [ 3.64e+03  2.79e+03]\n",
      " [-5.03e+02  2.26e+03]\n",
      " [ 1.13e+04  1.06e+04]\n",
      " [ 1.78e+04  9.30e+03]\n",
      " [ 1.49e+04  1.04e+04]\n",
      " [ 5.95e+03  4.89e+03]\n",
      " [ 1.63e+04  1.43e+04]\n",
      " [ 1.57e+04  2.83e+04]\n",
      " [-8.01e+02  1.44e+04]\n",
      " [ 8.87e+02  1.63e+03]\n",
      " [ 1.37e+04  2.55e+04]\n",
      " [ 6.14e+03  6.56e+03]\n",
      " [ 3.32e+04  3.96e+04]\n",
      " [ 1.45e+04  9.96e+03]\n",
      " [ 7.76e+03  1.72e+03]\n",
      " [ 1.46e+03  2.73e+03]\n",
      " [ 9.33e+03  6.50e+03]\n",
      " [ 4.29e+03  2.64e+03]\n",
      " [ 7.61e+03  1.72e+03]\n",
      " [ 7.62e+03  1.11e+04]\n",
      " [ 8.18e+03  1.01e+04]\n",
      " [ 9.44e+03  4.85e+03]\n",
      " [ 2.07e+04  1.30e+04]\n",
      " [ 8.25e+03  2.89e+04]\n",
      " [ 1.55e+04  9.39e+03]\n",
      " [ 2.62e+03  4.54e+03]\n",
      " [ 9.39e+03  1.71e+04]\n",
      " [ 1.98e+04  1.38e+04]\n",
      " [ 6.03e+03  6.11e+03]\n",
      " [ 8.23e+03  4.44e+03]\n",
      " [ 5.57e+03  1.63e+03]\n",
      " [ 6.43e+03  4.06e+03]\n",
      " [ 7.96e+03  4.44e+03]\n",
      " [ 5.97e+03  8.31e+03]\n",
      " [ 1.01e+04  1.99e+03]\n",
      " [ 8.26e+03  4.26e+03]\n",
      " [ 1.17e+04  4.50e+03]\n",
      " [ 6.95e+03  4.43e+03]\n",
      " [ 6.44e+03  6.12e+03]\n",
      " [ 3.78e+04  3.02e+04]\n",
      " [ 4.31e+03  1.71e+03]\n",
      " [ 8.49e+03  1.12e+04]\n",
      " [ 8.91e+03  6.80e+03]\n",
      " [ 1.33e+04  1.14e+04]\n",
      " [ 1.04e+04  2.50e+03]\n",
      " [ 8.44e+03  2.74e+04]\n",
      " [ 3.65e+04  2.81e+04]\n",
      " [ 6.59e+03  2.25e+03]\n",
      " [ 9.77e+02  2.60e+03]\n",
      " [ 1.09e+04  1.47e+04]\n",
      " [ 1.08e+04  1.04e+04]\n",
      " [ 3.46e+04  4.11e+04]\n",
      " [ 6.27e+03  3.98e+03]\n",
      " [ 4.66e+03  5.47e+03]\n",
      " [ 3.45e+04  2.12e+04]\n",
      " [ 5.56e+03  2.53e+03]\n",
      " [ 5.09e+03  1.97e+03]\n",
      " [ 1.09e+04  6.41e+03]\n",
      " [ 7.85e+03  6.55e+03]\n",
      " [ 1.27e+04  4.06e+03]\n",
      " [ 5.94e+03  4.24e+03]\n",
      " [ 1.13e+04  1.15e+04]\n",
      " [ 4.07e+04  4.69e+04]\n",
      " [ 9.48e+03  1.23e+04]\n",
      " [ 2.91e+04  1.92e+04]\n",
      " [ 6.61e+03  4.43e+03]\n",
      " [ 3.35e+04  4.30e+04]\n",
      " [ 6.75e+03  2.32e+04]\n",
      " [ 1.68e+04  9.14e+03]\n",
      " [ 9.90e+03  5.84e+03]\n",
      " [ 1.02e+04  1.15e+03]\n",
      " [ 1.11e+04  8.77e+03]\n",
      " [ 1.28e+04  1.40e+04]\n",
      " [ 1.64e+03  5.31e+03]\n",
      " [ 2.61e+03  1.08e+04]\n",
      " [ 1.05e+04  6.28e+03]\n",
      " [ 4.54e+03  1.97e+03]\n",
      " [ 1.06e+04  6.75e+03]\n",
      " [ 3.71e+03  5.35e+03]\n",
      " [ 1.46e+04  1.40e+04]\n",
      " [ 4.09e+03  6.88e+03]\n",
      " [ 7.83e+03  6.20e+03]\n",
      " [ 6.42e+03  7.99e+03]\n",
      " [ 7.92e+03  8.28e+03]\n",
      " [ 1.52e+03  3.21e+03]\n",
      " [ 1.14e+04  1.18e+04]\n",
      " [ 1.60e+04  1.42e+04]\n",
      " [ 1.56e+04  1.23e+04]\n",
      " [ 9.61e+03  1.18e+04]\n",
      " [ 1.17e+04  6.65e+03]\n",
      " [ 8.09e+03  2.14e+03]\n",
      " [ 7.32e+03  1.13e+03]\n",
      " [ 1.49e+04  8.34e+03]\n",
      " [ 1.49e+04  1.22e+04]\n",
      " [ 3.40e+03  4.56e+03]\n",
      " [ 5.90e+03  1.76e+04]\n",
      " [ 1.18e+04  6.88e+03]\n",
      " [ 8.69e+03  9.45e+03]\n",
      " [ 2.78e+04  3.43e+04]\n",
      " [ 1.03e+04  6.07e+03]\n",
      " [ 9.60e+03  1.17e+04]\n",
      " [ 5.09e+03  5.38e+03]\n",
      " [ 2.66e+04  3.75e+04]\n",
      " [ 8.94e+03  7.37e+03]\n",
      " [ 6.45e+03  7.33e+03]\n",
      " [ 1.03e+04  8.41e+03]\n",
      " [ 1.21e+04  1.05e+04]\n",
      " [ 5.91e+03  3.28e+03]\n",
      " [ 6.39e+03  7.73e+03]\n",
      " [ 6.97e+02  2.73e+03]\n",
      " [ 1.01e+04  6.86e+03]\n",
      " [ 2.73e+04  1.95e+04]\n",
      " [ 3.43e+04  4.73e+04]\n",
      " [ 4.48e+03  3.99e+03]\n",
      " [ 8.33e+03  3.24e+03]\n",
      " [ 1.04e+03  7.32e+03]\n",
      " [ 3.59e+03  1.70e+03]\n",
      " [ 1.27e+04  7.45e+03]\n",
      " [ 4.89e+03  1.63e+03]\n",
      " [ 5.38e+03  4.88e+03]\n",
      " [ 4.54e+03  3.56e+03]\n",
      " [ 1.33e+04  8.61e+03]\n",
      " [ 2.95e+04  2.45e+04]\n",
      " [ 3.77e+04  4.57e+04]\n",
      " [ 1.07e+04  1.50e+04]\n",
      " [ 8.43e+03  6.66e+03]\n",
      " [ 1.74e+04  2.07e+04]\n",
      " [ 3.07e+04  4.09e+04]\n",
      " [ 1.25e+04  9.50e+03]\n",
      " [ 3.30e+04  4.02e+04]\n",
      " [ 8.30e+03  1.14e+03]\n",
      " [ 2.58e+04  3.85e+04]\n",
      " [ 1.02e+04  4.67e+03]\n",
      " [ 1.24e+04  1.30e+04]\n",
      " [ 5.26e+02  4.19e+03]\n",
      " [ 3.44e+04  3.87e+04]\n",
      " [ 6.49e+03  5.59e+03]\n",
      " [ 1.65e+04  2.73e+04]\n",
      " [ 1.52e+04  9.79e+03]\n",
      " [ 4.02e+03  2.36e+03]\n",
      " [ 1.14e+04  1.32e+04]\n",
      " [ 8.04e+03  1.22e+04]\n",
      " [ 7.88e+03  4.32e+03]\n",
      " [ 1.57e+04  1.27e+04]\n",
      " [ 1.26e+03  2.20e+03]\n",
      " [ 1.23e+04  6.08e+03]\n",
      " [ 7.79e+03  3.59e+03]\n",
      " [ 1.20e+04  8.60e+03]\n",
      " [ 2.78e+04  2.18e+04]\n",
      " [ 1.35e+04  2.93e+03]\n",
      " [ 4.15e+03  1.71e+03]\n",
      " [ 1.56e+03  2.80e+03]\n",
      " [ 3.49e+04  4.85e+04]\n",
      " [ 1.26e+04  9.28e+03]\n",
      " [ 2.92e+03  4.74e+03]\n",
      " [ 9.66e+03  1.23e+04]\n",
      " [ 1.16e+04  1.19e+04]\n",
      " [ 2.30e+04  3.42e+04]\n",
      " [ 6.02e+03  6.50e+03]\n",
      " [ 9.41e+03  4.75e+03]\n",
      " [ 1.40e+04  8.46e+03]\n",
      " [ 2.89e+03  1.64e+03]\n",
      " [ 8.98e+03  2.57e+03]\n",
      " [ 2.22e+04  1.45e+04]\n",
      " [ 2.53e+04  1.66e+04]\n",
      " [ 1.45e+04  1.35e+04]\n",
      " [ 6.10e+03  2.72e+03]\n",
      " [ 6.08e+03  1.82e+04]\n",
      " [ 1.22e+04  8.62e+03]\n",
      " [ 1.45e+04  9.72e+03]\n",
      " [ 2.02e+04  1.43e+04]\n",
      " [ 2.84e+04  2.15e+04]\n",
      " [ 7.78e+03  5.97e+03]\n",
      " [ 1.82e+04  1.47e+04]\n",
      " [-1.08e+03  2.13e+03]\n",
      " [ 1.55e+04  5.44e+03]\n",
      " [ 1.23e+04  3.94e+03]\n",
      " [ 7.29e+03  8.53e+03]\n",
      " [ 6.35e+03  1.19e+04]\n",
      " [ 1.06e+04  6.84e+03]\n",
      " [ 2.80e+04  4.30e+04]\n",
      " [ 4.21e+03  3.93e+03]\n",
      " [ 4.52e+03  1.89e+04]\n",
      " [-2.89e+03  2.12e+03]\n",
      " [ 1.17e+04  8.28e+03]\n",
      " [ 7.38e+03  3.37e+03]\n",
      " [ 1.18e+04  1.18e+04]\n",
      " [ 3.44e+04  4.79e+04]\n",
      " [ 2.58e+04  1.74e+04]\n",
      " [ 1.38e+04  9.29e+03]\n",
      " [ 3.73e+04  4.26e+04]\n",
      " [ 1.30e+04  1.32e+04]\n",
      " [ 6.70e+03  4.43e+03]\n",
      " [ 1.61e+04  9.38e+03]\n",
      " [ 8.79e+03  3.60e+03]\n",
      " [ 3.01e+04  2.91e+04]]\n"
     ]
    }
   ],
   "source": [
    "y_predi = lR.predict(x_test)\n",
    "np.set_printoptions(precision = 2)\n",
    "print(np.concatenate((y_predi.reshape(len(y_predi),1),y_test.reshape(len(y_test),1)),1))"
   ]
  },
  {
   "cell_type": "code",
   "execution_count": 12,
   "metadata": {},
   "outputs": [
    {
     "name": "stdout",
     "output_type": "stream",
     "text": [
      "MSE :  41056008.41921837\n",
      "RMSE :  6407.496267593011\n",
      "R-squarescore :  0.7392184998608806\n",
      "MAE : 4945.712958747364\n"
     ]
    }
   ],
   "source": [
    "# errors and accuracy\n",
    "import sklearn.metrics as met\n",
    "mse= met.mean_squared_error(y_test, y_predi)\n",
    "print('MSE : ', mse)\n",
    "rmse = np.sqrt(mse)\n",
    "print('RMSE : ', rmse)\n",
    "r2_c = met.r2_score(y_test, y_predi)\n",
    "print('R-squarescore : ', r2_c)\n",
    "mae = met.mean_absolute_error(y_test,y_predi)\n",
    "print('MAE :', mae)"
   ]
  }
 ],
 "metadata": {
  "kernelspec": {
   "display_name": "Python 3",
   "language": "python",
   "name": "python3"
  },
  "language_info": {
   "codemirror_mode": {
    "name": "ipython",
    "version": 3
   },
   "file_extension": ".py",
   "mimetype": "text/x-python",
   "name": "python",
   "nbconvert_exporter": "python",
   "pygments_lexer": "ipython3",
   "version": "3.8.1"
  },
  "varInspector": {
   "cols": {
    "lenName": 16,
    "lenType": 16,
    "lenVar": 40
   },
   "kernels_config": {
    "python": {
     "delete_cmd_postfix": "",
     "delete_cmd_prefix": "del ",
     "library": "var_list.py",
     "varRefreshCmd": "print(var_dic_list())"
    },
    "r": {
     "delete_cmd_postfix": ") ",
     "delete_cmd_prefix": "rm(",
     "library": "var_list.r",
     "varRefreshCmd": "cat(var_dic_list()) "
    }
   },
   "types_to_exclude": [
    "module",
    "function",
    "builtin_function_or_method",
    "instance",
    "_Feature"
   ],
   "window_display": false
  }
 },
 "nbformat": 4,
 "nbformat_minor": 4
}
